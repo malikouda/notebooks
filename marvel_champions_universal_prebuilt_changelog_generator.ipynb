{
  "nbformat": 4,
  "nbformat_minor": 0,
  "metadata": {
    "colab": {
      "provenance": [],
      "authorship_tag": "ABX9TyPbopLciZ37iI330GqK6tB1"
    },
    "kernelspec": {
      "name": "python3",
      "display_name": "Python 3"
    },
    "language_info": {
      "name": "python"
    }
  },
  "cells": [
    {
      "cell_type": "code",
      "source": [
        "import os, re\n",
        "from collections import OrderedDict\n",
        "\n",
        "import gdown\n",
        "from google.colab import auth\n",
        "from googleapiclient.discovery import build\n",
        "from IPython.display import display\n",
        "import pandas as pd\n",
        "\n",
        "\n",
        "auth.authenticate_user()\n",
        "files = OrderedDict()\n",
        "\n",
        "gdrive = build('drive', 'v3').files()\n",
        "\n",
        "# These are the archived decklists\n",
        "# https://drive.google.com/drive/folders/1M2qAy6ddI7Doj7G1UcX4Me71tnPtwM9J\n",
        "folder_id = \"1M2qAy6ddI7Doj7G1UcX4Me71tnPtwM9J\"\n",
        "\n",
        "# Ordered by modified time\n",
        "res = gdrive.list(q=f\"'{folder_id}' in parents\", orderBy='modifiedTime').execute()\n",
        "for f in res['files']:\n",
        "    files[f['id']] = f['name']\n",
        "\n",
        "# This is the current list\n",
        "# https://docs.google.com/spreadsheets/d/1uDnn-7Urtprf3awFV0cSUHseIqJQYCVF7ckineFVBP4/edit?usp=sharing\n",
        "files['1uDnn-7Urtprf3awFV0cSUHseIqJQYCVF7ckineFVBP4'] = 'Current'"
      ],
      "metadata": {
        "id": "XTcSVdr46Ns1"
      },
      "execution_count": 301,
      "outputs": []
    },
    {
      "cell_type": "code",
      "source": [
        "!rm -rf decks; mkdir decks; ls"
      ],
      "metadata": {
        "colab": {
          "base_uri": "https://localhost:8080/"
        },
        "id": "NegSspnL_7QD",
        "outputId": "454d6c72-68b5-46a4-fabc-82f75b06e937"
      },
      "execution_count": 302,
      "outputs": [
        {
          "output_type": "stream",
          "name": "stdout",
          "text": [
            "decks\n"
          ]
        }
      ]
    },
    {
      "cell_type": "code",
      "source": [
        "releases = []\n",
        "\n",
        "csv_url = \"https://docs.google.com/spreadsheets/d/{0}/gviz/tq?tqx=out:csv&sheet={1}\"\n",
        "for id,name in files.items():\n",
        "    name = re.sub(r'\\W+', '', name)\n",
        "    releases.append(name)\n",
        "    gdown.download(url=csv_url.format(id, \"Prebuilt Decks\"), output=f'./decks/{name}', quiet=True, fuzzy=True)"
      ],
      "metadata": {
        "id": "kSBvezmi9XgW"
      },
      "execution_count": 303,
      "outputs": []
    },
    {
      "cell_type": "code",
      "source": [
        "!ls /content/decks"
      ],
      "metadata": {
        "colab": {
          "base_uri": "https://localhost:8080/"
        },
        "id": "MLidPk82nrJr",
        "outputId": "3ccc1948-b8fd-46c8-d608-9ec6625c81a5"
      },
      "execution_count": 304,
      "outputs": [
        {
          "output_type": "stream",
          "name": "stdout",
          "text": [
            "AgeofApocalypse  GalaxysMostWanted  Nebula\t   Quicksilver\t    SpiderHam\t    WarMachine\n",
            "AntMan\t\t Gambit\t\t    NeXtEvolution  Rogue\t    StarLordGamora  Wasp\n",
            "Current\t\t Ironheart\t    Nova\t   ScarletWitch     Valkyrie\t    WolverineLogan\n",
            "Cyclops\t\t MadTitansShadow    Phoenix\t   SinisterMotives  Venom\n",
            "Drax\t\t MutantGenesis\t    Psylocke\t   Spdr\t\t    Vision\n"
          ]
        }
      ]
    },
    {
      "cell_type": "code",
      "source": [
        "def read_csv(f):\n",
        "    df = pd.read_csv(f)\n",
        "    df = df.loc[:, ~df.columns.str.contains('^Unnamed')]\n",
        "    if all('(' not in col for col in df.columns):\n",
        "        for col in df.columns:\n",
        "            if col not in hero_alter_egos:\n",
        "                raise Exception(f\"{col} not in hero list\")\n",
        "            if hero_alter_egos[col] is None:\n",
        "                continue\n",
        "            df.rename(columns={col: f\"{col} ({hero_alter_egos[col]})\"}, inplace=True)\n",
        "    df = df.iloc[1:]\n",
        "    return df"
      ],
      "metadata": {
        "id": "GIuEraZjvkLz"
      },
      "execution_count": 305,
      "outputs": []
    },
    {
      "cell_type": "code",
      "source": [
        "hero_alter_egos = {}\n",
        "\n",
        "# Gets most all alter egos for heroes from most recent decklist\n",
        "heroes = read_csv(f'/content/decks/{releases[-1]}').columns\n",
        "for hero in heroes:\n",
        "    if '(' in hero:\n",
        "        groups = tuple(re.search(r'^(.+)\\((.+)\\)$', hero).groups())\n",
        "        hero, alter_ego = groups\n",
        "        hero = hero.strip()\n",
        "        alter_ego = alter_ego.strip()\n",
        "        if hero in hero_alter_egos:\n",
        "            hero_alter_egos[hero].append(alter_ego)\n",
        "        else:\n",
        "            hero_alter_egos[hero] = [alter_ego]\n",
        "    else:\n",
        "        hero_alter_egos[hero] = None\n",
        "\n",
        "# Creates a dictionary with \"legacy\" alter egos for older lists\n",
        "# that didn't list alter egos. For example: Old decklists only\n",
        "# listed 'Spider-Man', need to correct those to 'Spider-Man (\n",
        "# Peter Parker)\n",
        "for hero in hero_alter_egos.keys():\n",
        "    ego_list = hero_alter_egos[hero]\n",
        "    if ego_list is None:\n",
        "        continue\n",
        "    if isinstance(ego_list, list) and len(ego_list) > 1:\n",
        "        print(\"Pick a legacy alter ego for lists where only the hero name was listed.\")\n",
        "        for i,ego in enumerate(ego_list):\n",
        "            print(f'[{i:>3n}]: {ego}')\n",
        "        choice = int(input(\"Choose: \"))\n",
        "        hero_alter_egos[hero] = ego_list[choice]\n",
        "    else:\n",
        "        hero_alter_egos[hero] = ego_list[0]"
      ],
      "metadata": {
        "colab": {
          "base_uri": "https://localhost:8080/"
        },
        "id": "TO_4_WYKR5mV",
        "outputId": "af606a1d-1849-416e-91a3-67d1a52e4bc7"
      },
      "execution_count": 306,
      "outputs": [
        {
          "name": "stdout",
          "output_type": "stream",
          "text": [
            "Pick a legacy alter ego for lists where only the hero name was listed.\n",
            "[  0]: Peter Parker\n",
            "[  1]: Miles Morales\n",
            "Choose: 0\n"
          ]
        }
      ]
    },
    {
      "cell_type": "code",
      "source": [
        "def compare_lists(old, new):\n",
        "    entered = [i for i in new if i not in old]\n",
        "    exited = [i for i in old if i not in new]\n",
        "    return entered, exited"
      ],
      "metadata": {
        "id": "ibW8WlU8rg5m"
      },
      "execution_count": 307,
      "outputs": []
    },
    {
      "cell_type": "code",
      "source": [
        "class Style():\n",
        "  RED = \"\\033[31m\"\n",
        "  GREEN = \"\\033[32m\"\n",
        "  BLUE = \"\\033[34m\"\n",
        "  RESET = \"\\033[0m\"\n",
        "\n",
        "style = Style()\n",
        "\n",
        "def compare_release(r1, r2):\n",
        "    df_old = read_csv(r1)\n",
        "    df_new = read_csv(r2)\n",
        "\n",
        "    print(\"\\n# Heroes (old):\", len(df_old.columns))\n",
        "    print(\"# Heroes (new):\", len(df_new.columns))\n",
        "\n",
        "    for col in df_new.columns:\n",
        "        new = df_new[col].tolist()\n",
        "\n",
        "        if col not in df_old.columns:\n",
        "            old = []\n",
        "        else:\n",
        "            old = df_old[col].tolist()\n",
        "\n",
        "        entered, exited = compare_lists(old, new)\n",
        "\n",
        "        if entered or exited:\n",
        "            print()\n",
        "            print(col)\n",
        "            print('-'*50)\n",
        "            for item in exited:\n",
        "                print(f\"{style.RED}-{item}{style.RESET}\")\n",
        "            for item in entered:\n",
        "                print(f\"{style.GREEN}+{item}{style.RESET}\")\n",
        "            print('-'*50)\n"
      ],
      "metadata": {
        "id": "lUCKL5L1H2tO"
      },
      "execution_count": 322,
      "outputs": []
    },
    {
      "cell_type": "code",
      "source": [
        "for i, name in enumerate(releases):\n",
        "    print(f'[{i:>3n}]: {name}')\n",
        "\n",
        "confirm = \"N\"\n",
        "\n",
        "while confirm != \"Y\":\n",
        "    if confirm == \"Q\":\n",
        "        raise KeyboardInterrupt\n",
        "    past = int(input(\"\\nPick previous decklist: \"))\n",
        "    print(f'Selected \"{style.BLUE}{releases[past]}{style.RESET}\"')\n",
        "    new = int(input(\"Pick new decklist: \"))\n",
        "    print(f'Selected \"{style.BLUE}{releases[new]}{style.RESET}\"')\n",
        "    confirm = input(\"Confirm selections? (Y/N/Q): \")\n",
        "\n",
        "past_release = f'/content/decks/{releases[past]}'\n",
        "new_release = f'/content/decks/{releases[new]}'\n",
        "\n",
        "compare_release(past_release, new_release)"
      ],
      "metadata": {
        "colab": {
          "base_uri": "https://localhost:8080/"
        },
        "id": "snFmlze8KxCd",
        "outputId": "0406d3b4-8066-4916-cebb-2ea125b79d2b"
      },
      "execution_count": 328,
      "outputs": [
        {
          "output_type": "stream",
          "name": "stdout",
          "text": [
            "[  0]: MadTitansShadow\n",
            "[  1]: Nebula\n",
            "[  2]: Venom\n",
            "[  3]: Drax\n",
            "[  4]: StarLordGamora\n",
            "[  5]: GalaxysMostWanted\n",
            "[  6]: ScarletWitch\n",
            "[  7]: Quicksilver\n",
            "[  8]: Wasp\n",
            "[  9]: AntMan\n",
            "[ 10]: WarMachine\n",
            "[ 11]: Vision\n",
            "[ 12]: Valkyrie\n",
            "[ 13]: SinisterMotives\n",
            "[ 14]: Nova\n",
            "[ 15]: Ironheart\n",
            "[ 16]: SpiderHam\n",
            "[ 17]: Spdr\n",
            "[ 18]: MutantGenesis\n",
            "[ 19]: Cyclops\n",
            "[ 20]: Phoenix\n",
            "[ 21]: WolverineLogan\n",
            "[ 22]: Gambit\n",
            "[ 23]: Rogue\n",
            "[ 24]: NeXtEvolution\n",
            "[ 25]: Psylocke\n",
            "[ 26]: AgeofApocalypse\n",
            "[ 27]: Current\n",
            "\n",
            "Pick previous decklist: 26\n",
            "Selected \"\u001b[34mAgeofApocalypse\u001b[0m\"\n",
            "Pick new decklist: 27\n",
            "Selected \"\u001b[34mCurrent\u001b[0m\"\n",
            "Confirm selections? (Y/N/Q): Y\n",
            "\n",
            "# Heroes (old): 51\n",
            "# Heroes (new): 52\n",
            "\n",
            "Scarlet Witch (Wanda Maximoff)\n",
            "--------------------------------------------------\n",
            "\u001b[31m-Energy\u001b[0m\n",
            "\u001b[31m-Genius\u001b[0m\n",
            "\u001b[32m+The Power in All of Us\u001b[0m\n",
            "\u001b[32m+The Power in All of Us\u001b[0m\n",
            "--------------------------------------------------\n",
            "\n",
            "Rocket Raccoon\n",
            "--------------------------------------------------\n",
            "\u001b[32m+Warrior Skill\u001b[0m\n",
            "--------------------------------------------------\n",
            "\n",
            "Gamora\n",
            "--------------------------------------------------\n",
            "\u001b[32m+Keep Up the Pressure\u001b[0m\n",
            "--------------------------------------------------\n",
            "\n",
            "Valkyrie (Brunnhilde)\n",
            "--------------------------------------------------\n",
            "\u001b[31m-Godslayer\u001b[0m\n",
            "\u001b[31m-Side Holster\u001b[0m\n",
            "\u001b[32m+Looking for Trouble\u001b[0m\n",
            "\u001b[32m+Looking for Trouble\u001b[0m\n",
            "--------------------------------------------------\n",
            "\n",
            "Spider-Ham (Peter Porker)\n",
            "--------------------------------------------------\n",
            "\u001b[31m-Strength\u001b[0m\n",
            "\u001b[32m+Team-Building Exercise\u001b[0m\n",
            "--------------------------------------------------\n",
            "\n",
            "Phoenix (Jean Grey)\n",
            "--------------------------------------------------\n",
            "\u001b[31m-X-Gene\u001b[0m\n",
            "\u001b[32m+Team-Building Exercise\u001b[0m\n",
            "--------------------------------------------------\n",
            "\n",
            "Rogue (Anna Marie)\n",
            "--------------------------------------------------\n",
            "\u001b[31m-Deft Focus\u001b[0m\n",
            "\u001b[32m+X-Gene\u001b[0m\n",
            "--------------------------------------------------\n",
            "\n",
            "Iceman (Bobby Drake)\n",
            "--------------------------------------------------\n",
            "\u001b[32m+Glob (Robert Herman)\u001b[0m\n",
            "\u001b[32m+Shark-Girl (Iara Dos Santos)\u001b[0m\n",
            "\u001b[32m+Looking for Trouble\u001b[0m\n",
            "\u001b[32m+Looking for Trouble\u001b[0m\n",
            "\u001b[32m+Surprise Move\u001b[0m\n",
            "\u001b[32m+Surprise Move\u001b[0m\n",
            "\u001b[32m+Surprise Move\u001b[0m\n",
            "\u001b[32m+Take That!\u001b[0m\n",
            "\u001b[32m+Take That!\u001b[0m\n",
            "\u001b[32m+Take That!\u001b[0m\n",
            "\u001b[32m+Boot Camp\u001b[0m\n",
            "\u001b[32m+Battle Fury\u001b[0m\n",
            "\u001b[32m+Battle Fury\u001b[0m\n",
            "\u001b[32m+Battle Fury\u001b[0m\n",
            "\u001b[32m+Combat Training\u001b[0m\n",
            "\u001b[32m+Suppressing Fire\u001b[0m\n",
            "\u001b[32m+Suppressing Fire\u001b[0m\n",
            "\u001b[32m+Suppressing Fire\u001b[0m\n",
            "\u001b[32m+Beak (Barnell Bohusk)\u001b[0m\n",
            "\u001b[32m+Shadowcat (Kitty Pryde)\u001b[0m\n",
            "\u001b[32m+Energy\u001b[0m\n",
            "\u001b[32m+Genius\u001b[0m\n",
            "\u001b[32m+Strength\u001b[0m\n",
            "\u001b[32m+Team-Building Exercise\u001b[0m\n",
            "\u001b[32m+Deft Focus\u001b[0m\n",
            "--------------------------------------------------\n"
          ]
        }
      ]
    }
  ]
}